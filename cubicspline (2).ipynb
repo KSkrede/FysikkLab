{
 "cells": [
  {
   "cell_type": "markdown",
   "metadata": {
    "id": "crY6YB7FlBIN"
   },
   "source": [
    "# Fysikklab, TFY4104, 4107 og 4115 våren 2022.\n",
    "\n",
    "Følgende notebook genererer en rullebane basert på koordinatene til åtte festepunkter med tilfeldig tilegnede høyder. \n",
    "Baneformen $y(x)$ beregnes med __CubicSpline__ fra interpolate-biblioteket i SciPy. En naturlig kubisk spline $S$ er et stykkevis kubisk polynom på et intervall $[a,b]$, slik at $S$, $S' = \\frac{dS}{dx}$ og $S'' = \\frac{d^2S}{dx^2}$ er kontinuerlige på hele intervallet, og $S''(a) = S''(b) = 0$.    \n",
    "\n",
    "<par>Vi skal beregne ulike fysiske størrelser for en kule som ruller gjennom den genererte bane. Da vi kjenner kulens bane (vi antar at den er lik baneformen $y(x)$), skal det gå som en lek :-) Som vi vil se, er høydekoordinatene tilfeldig generert innenfor visse kriterier som skal forsikre at <li> Kula kommer seg gjennom hele banen, og </li> <li> Banen aldri har for stor helningsvinkel. </li>\n",
    "    \n",
    "<par> Dere kan kjøre denne koden et par ganger til dere finner en baneform dere liker. Når dere har gjort dette er det viktig at dere skriver ned koordinatene til festepunktene! Disse blir generert på nytt hver gang koden blir kjørt. Husk at dere skal sette opp banen fysisk neste økt.\n",
    "    "
   ]
  },
  {
   "cell_type": "markdown",
   "metadata": {
    "id": "nFo0yc29mD6M"
   },
   "source": [
    "Vi begynner med å importere nyttige bibliotek"
   ]
  },
  {
   "cell_type": "code",
   "execution_count": 1,
   "metadata": {
    "id": "AqFawUiVl6kA"
   },
   "outputs": [],
   "source": [
    "import matplotlib.pyplot as plt\n",
    "import numpy as np\n",
    "from scipy.interpolate import CubicSpline"
   ]
  },
  {
   "cell_type": "markdown",
   "metadata": {
    "id": "KBcxwA4UmJ_y"
   },
   "source": [
    "Vi lager en array som inneholder x-koordinatene til festepunktene. Horisontal avstand mellom festepunktene er 0.200 m."
   ]
  },
  {
   "cell_type": "code",
   "execution_count": 2,
   "metadata": {
    "id": "ISFJJUpBmNfx"
   },
   "outputs": [],
   "source": [
    "h = 0.200\n",
    "xfast=np.asarray([0,h,2*h,3*h,4*h,5*h,6*h,7*h])"
   ]
  },
  {
   "cell_type": "markdown",
   "metadata": {
    "id": "Te0qcrmFmWTh"
   },
   "source": [
    "Start, slutt og steglengde i x-rettning:"
   ]
  },
  {
   "cell_type": "code",
   "execution_count": 3,
   "metadata": {
    "id": "sgxwH4Ftmd8v"
   },
   "outputs": [],
   "source": [
    "xmin = 0.000\n",
    "xmax = 1.401\n",
    "dx = 0.001"
   ]
  },
  {
   "cell_type": "markdown",
   "metadata": {
    "id": "kv2ct7SfmtGm"
   },
   "source": [
    "Vi genererer en array med høydekoordinatene til festepunktene. "
   ]
  },
  {
   "cell_type": "code",
   "execution_count": 4,
   "metadata": {
    "id": "fzM3YUPom3ko"
   },
   "outputs": [],
   "source": [
    "ymax = 300\n",
    "# yfast: tabell med 8 heltall mellom 50 og 300 (mm); representerer\n",
    "# høyden i de 8 festepunktene\n",
    "yfast=np.asarray(np.random.randint(50, ymax, size=8))\n",
    "#konverter fra m til mm\n",
    "yfast =yfast/1000\n",
    "# inttan: tabell med 7 verdier for (yfast[n+1]-yfast[n])/h (n=0..7); dvs\n",
    "# banens stigningstall beregnet med utgangspunkt i de 8 festepunktene.\n",
    "inttan = np.diff(yfast)/h\n",
    "attempts=1\n",
    "# while-løkken sjekker om en eller flere av de 3 betingelsene ovenfor\n",
    "# ikke er tilfredsstilt; i så fall velges nye festepunkter inntil\n",
    "# de 3 betingelsene er oppfylt\n",
    "while (yfast[0] < yfast[1]*1.04 or\n",
    "       yfast[0] < yfast[2]*1.08 or\n",
    "       yfast[0] < yfast[3]*1.12 or\n",
    "       yfast[0] < yfast[4]*1.16 or\n",
    "       yfast[0] < yfast[5]*1.20 or\n",
    "       yfast[0] < yfast[6]*1.24 or\n",
    "       yfast[0] < yfast[7]*1.28 or\n",
    "       yfast[0] < 0.250 or\n",
    "       np.max(np.abs(inttan)) > 0.4 or\n",
    "       inttan[0] > -0.2):\n",
    "          yfast=np.asarray(np.random.randint(0, ymax, size=8))\n",
    "          \n",
    "          #konverter fra m til mm\n",
    "          yfast =yfast/1000\n",
    "          \n",
    "          inttan = np.diff(yfast)/h\n",
    "          attempts=attempts+1\n",
    "\n",
    "\n",
    "# Omregning fra mm til m:\n",
    "# xfast = xfast/1000\n",
    "# yfast = yfast/1000\n",
    "\n",
    "# Når programmet her har avsluttet while-løkka, betyr det at\n",
    "# tallverdiene i tabellen yfast vil resultere i en tilfredsstillende bane. \n"
   ]
  },
  {
   "cell_type": "markdown",
   "metadata": {
    "id": "VNQ7mHaznCQ5"
   },
   "source": [
    "Programmet beregner deretter 7 tredjegradspolynomer, et for hvert intervall mellom to nabofestepunkter. Med scipy.interpolate-funksjonen CubicSpline:"
   ]
  },
  {
   "cell_type": "code",
   "execution_count": 5,
   "metadata": {
    "id": "eU6gr2kJnVbg"
   },
   "outputs": [],
   "source": [
    "cs = CubicSpline(xfast, yfast, bc_type='natural')\n",
    "\n",
    "xmin = 0.000\n",
    "xmax = 1.401\n",
    "dx = 0.001"
   ]
  },
  {
   "cell_type": "markdown",
   "metadata": {
    "id": "1zXB7-Q51vD3"
   },
   "source": [
    "Funksjonen cs kan nå brukes til å regne ut $y(x)$, $y'(x)$ og $y''(x)$ for en vilkårlig horisontal posisjon x, eventuelt for mange horisontale posisjoner lagret i en tabell: <br>\n",
    "`cs(x)`   tilsvarer $y(x)$<br>\n",
    "`cs(x,1)` tilsvarer $y'(x)$<br>\n",
    "`cs(x,2)` tilsvarer $y''(x)$<br>\n",
    "\n",
    "<br>\n",
    "Vi vil ha en tetter diskretisering av x og y. Her lager vi en tabell med x-verdier mellom 0 og 1.4 m"
   ]
  },
  {
   "cell_type": "code",
   "execution_count": 7,
   "metadata": {
    "id": "r2oeceds1wLl"
   },
   "outputs": [],
   "source": [
    "x = np.arange(xmin, xmax, dx) "
   ]
  },
  {
   "cell_type": "markdown",
   "metadata": {
    "id": "yQ4ePAbznZsV"
   },
   "source": [
    "Funksjonen arange returnerer verdier på det \"halvåpne\" intervallet\n",
    "`[xmin,xmax)`, dvs slik at xmin er med mens xmax ikke er med. Her blir\n",
    "dermed `x[0]=xmin=0.000`, `x[1]=xmin+1*dx=0.001`, ..., `x[1400]=xmax-dx=1.400`, \n",
    "dvs x blir en tabell med 1401 elementer\n",
    "<br>\n",
    "\n",
    "<par> Vi lager arrays for $y$, $y'$ og $y''$ -- også med 1401 elementer. </par>"
   ]
  },
  {
   "cell_type": "code",
   "execution_count": 8,
   "metadata": {
    "id": "ruU35FUmnnn9"
   },
   "outputs": [],
   "source": [
    "Nx = len(x)\n",
    "y = cs(x)       #y=tabell med 1401 verdier for y(x)\n",
    "dy = cs(x,1)    #dy=tabell med 1401 verdier for y'(x)\n",
    "d2y = cs(x,2)   #d2y=tabell med 1401 verdier for y''(x)"
   ]
  },
  {
   "cell_type": "markdown",
   "metadata": {
    "id": "RGuzfOQpoeqM"
   },
   "source": [
    "Nå kan vi plotte baneformen $y(x)$"
   ]
  },
  {
   "cell_type": "code",
   "execution_count": 9,
   "metadata": {
    "colab": {
     "base_uri": "https://localhost:8080/",
     "height": 415
    },
    "id": "YwenKb4ok0iB",
    "outputId": "946804ce-3756-4d92-e4ab-5bc1cf179e1e"
   },
   "outputs": [
    {
     "data": {
      "image/png": "[encoded data removed]",
      "text/plain": [
       "<Figure size 864x432 with 1 Axes>"
      ]
     },
     "metadata": {
      "needs_background": "light"
     },
     "output_type": "display_data"
    }
   ],
   "source": [
    "baneform = plt.figure('y(x)',figsize=(12,6))\n",
    "plt.plot(x,y,xfast,yfast,'*')\n",
    "plt.title('Banens form')\n",
    "plt.xlabel('$x$ (m)',fontsize=20)\n",
    "plt.ylabel('$y(x)$ (m)',fontsize=20)\n",
    "plt.grid()\n",
    "plt.show()"
   ]
  },
  {
   "cell_type": "markdown",
   "metadata": {
    "id": "DhHAPUzAoya3"
   },
   "source": [
    "Denne koden kan nå utvides til å regne ut flere interessante størelser =) "
   ]
  },
  {
   "cell_type": "code",
   "execution_count": null,
   "metadata": {
    "id": "4BLO0pLQoXTj"
   },
   "outputs": [],
   "source": []
  }
 ],
 "metadata": {
  "colab": {
   "collapsed_sections": [],
   "name": "TFY41xx Fysikk våren 2021.ipynb",
   "provenance": []
  },
  "kernelspec": {
   "display_name": "Python 3",
   "language": "python",
   "name": "python3"
  },
  "language_info": {
   "codemirror_mode": {
    "name": "ipython",
    "version": 3
   },
   "file_extension": ".py",
   "mimetype": "text/x-python",
   "name": "python",
   "nbconvert_exporter": "python",
   "pygments_lexer": "ipython3",
   "version": "3.8.8"
  }
 },
 "nbformat": 4,
 "nbformat_minor": 1
}
